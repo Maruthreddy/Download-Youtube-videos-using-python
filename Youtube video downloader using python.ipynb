{
 "cells": [
  {
   "cell_type": "code",
   "execution_count": 1,
   "id": "2443d2d3-b3bc-441c-bae7-57c571d8f408",
   "metadata": {},
   "outputs": [
    {
     "name": "stdout",
     "output_type": "stream",
     "text": [
      "Requirement already satisfied: pytube3 in c:\\users\\admin\\anaconda3\\lib\\site-packages (9.6.4)\n",
      "Requirement already satisfied: typing-extensions in c:\\users\\admin\\anaconda3\\lib\\site-packages (from pytube3) (4.11.0)\n",
      "Note: you may need to restart the kernel to use updated packages.\n"
     ]
    }
   ],
   "source": [
    "pip install pytube3"
   ]
  },
  {
   "cell_type": "code",
   "execution_count": 2,
   "id": "1825c64f-6439-4ce3-842f-760ecf8fb660",
   "metadata": {},
   "outputs": [
    {
     "name": "stdout",
     "output_type": "stream",
     "text": [
      "Collecting pytube\n",
      "  Downloading pytube-15.0.0-py3-none-any.whl.metadata (5.0 kB)\n",
      "Downloading pytube-15.0.0-py3-none-any.whl (57 kB)\n",
      "   ---------------------------------------- 0.0/57.6 kB ? eta -:--:--\n",
      "   -------------- ------------------------- 20.5/57.6 kB 330.3 kB/s eta 0:00:01\n",
      "   ----------------------------------- ---- 51.2/57.6 kB 660.6 kB/s eta 0:00:01\n",
      "   ---------------------------------------- 57.6/57.6 kB 607.1 kB/s eta 0:00:00\n",
      "Installing collected packages: pytube\n",
      "Successfully installed pytube-15.0.0\n",
      "Note: you may need to restart the kernel to use updated packages.\n"
     ]
    }
   ],
   "source": [
    "pip install --upgrade pytube"
   ]
  },
  {
   "cell_type": "code",
   "execution_count": 5,
   "id": "9a5dc020-cfae-43b1-a0ab-bac1745716f9",
   "metadata": {},
   "outputs": [],
   "source": [
    "from pytube import YouTube"
   ]
  },
  {
   "cell_type": "code",
   "execution_count": 4,
   "id": "81de915a-5da5-4496-a106-3ba21e2cf157",
   "metadata": {},
   "outputs": [
    {
     "name": "stdout",
     "output_type": "stream",
     "text": [
      "Collecting yt-dlp\n",
      "  Downloading yt_dlp-2024.8.6-py3-none-any.whl.metadata (170 kB)\n",
      "     ---------------------------------------- 0.0/170.1 kB ? eta -:--:--\n",
      "     -- ------------------------------------- 10.2/170.1 kB ? eta -:--:--\n",
      "     ------ ------------------------------ 30.7/170.1 kB 330.3 kB/s eta 0:00:01\n",
      "     ------------- ----------------------- 61.4/170.1 kB 469.7 kB/s eta 0:00:01\n",
      "     -------------------------------------- 170.1/170.1 kB 1.0 MB/s eta 0:00:00\n",
      "Requirement already satisfied: brotli in c:\\users\\admin\\anaconda3\\lib\\site-packages (from yt-dlp) (1.0.9)\n",
      "Requirement already satisfied: certifi in c:\\users\\admin\\anaconda3\\lib\\site-packages (from yt-dlp) (2024.6.2)\n",
      "Collecting mutagen (from yt-dlp)\n",
      "  Downloading mutagen-1.47.0-py3-none-any.whl.metadata (1.7 kB)\n",
      "Collecting pycryptodomex (from yt-dlp)\n",
      "  Downloading pycryptodomex-3.20.0-cp35-abi3-win_amd64.whl.metadata (3.4 kB)\n",
      "Requirement already satisfied: requests<3,>=2.32.2 in c:\\users\\admin\\anaconda3\\lib\\site-packages (from yt-dlp) (2.32.2)\n",
      "Requirement already satisfied: urllib3<3,>=1.26.17 in c:\\users\\admin\\anaconda3\\lib\\site-packages (from yt-dlp) (2.2.2)\n",
      "Collecting websockets>=12.0 (from yt-dlp)\n",
      "  Downloading websockets-13.0.1-cp312-cp312-win_amd64.whl.metadata (6.9 kB)\n",
      "Requirement already satisfied: charset-normalizer<4,>=2 in c:\\users\\admin\\anaconda3\\lib\\site-packages (from requests<3,>=2.32.2->yt-dlp) (2.0.4)\n",
      "Requirement already satisfied: idna<4,>=2.5 in c:\\users\\admin\\anaconda3\\lib\\site-packages (from requests<3,>=2.32.2->yt-dlp) (3.7)\n",
      "Downloading yt_dlp-2024.8.6-py3-none-any.whl (3.1 MB)\n",
      "   ---------------------------------------- 0.0/3.1 MB ? eta -:--:--\n",
      "   --- ------------------------------------ 0.2/3.1 MB 7.3 MB/s eta 0:00:01\n",
      "   ------ --------------------------------- 0.5/3.1 MB 6.3 MB/s eta 0:00:01\n",
      "   --------- ------------------------------ 0.7/3.1 MB 5.7 MB/s eta 0:00:01\n",
      "   ------------ --------------------------- 1.0/3.1 MB 5.6 MB/s eta 0:00:01\n",
      "   --------------- ------------------------ 1.2/3.1 MB 5.4 MB/s eta 0:00:01\n",
      "   ------------------ --------------------- 1.5/3.1 MB 5.4 MB/s eta 0:00:01\n",
      "   --------------------- ------------------ 1.6/3.1 MB 5.0 MB/s eta 0:00:01\n",
      "   ----------------------- ---------------- 1.8/3.1 MB 4.8 MB/s eta 0:00:01\n",
      "   ------------------------- -------------- 2.0/3.1 MB 4.9 MB/s eta 0:00:01\n",
      "   --------------------------- ------------ 2.2/3.1 MB 4.7 MB/s eta 0:00:01\n",
      "   ----------------------------- ---------- 2.3/3.1 MB 4.6 MB/s eta 0:00:01\n",
      "   ------------------------------- -------- 2.5/3.1 MB 4.7 MB/s eta 0:00:01\n",
      "   ---------------------------------- ----- 2.7/3.1 MB 4.6 MB/s eta 0:00:01\n",
      "   ------------------------------------ --- 2.9/3.1 MB 4.5 MB/s eta 0:00:01\n",
      "   ---------------------------------------  3.1/3.1 MB 4.4 MB/s eta 0:00:01\n",
      "   ---------------------------------------- 3.1/3.1 MB 4.3 MB/s eta 0:00:00\n",
      "Downloading websockets-13.0.1-cp312-cp312-win_amd64.whl (152 kB)\n",
      "   ---------------------------------------- 0.0/152.2 kB ? eta -:--:--\n",
      "   ---------------------------------------- 152.2/152.2 kB 3.0 MB/s eta 0:00:00\n",
      "Downloading mutagen-1.47.0-py3-none-any.whl (194 kB)\n",
      "   ---------------------------------------- 0.0/194.4 kB ? eta -:--:--\n",
      "   ---------------------------------------- 194.4/194.4 kB 5.9 MB/s eta 0:00:00\n",
      "Downloading pycryptodomex-3.20.0-cp35-abi3-win_amd64.whl (1.8 MB)\n",
      "   ---------------------------------------- 0.0/1.8 MB ? eta -:--:--\n",
      "   ------ --------------------------------- 0.3/1.8 MB 6.3 MB/s eta 0:00:01\n",
      "   ---------- ----------------------------- 0.5/1.8 MB 6.0 MB/s eta 0:00:01\n",
      "   ---------------- ----------------------- 0.7/1.8 MB 5.7 MB/s eta 0:00:01\n",
      "   ---------------------- ----------------- 1.0/1.8 MB 6.2 MB/s eta 0:00:01\n",
      "   -------------------------- ------------- 1.2/1.8 MB 5.3 MB/s eta 0:00:01\n",
      "   ----------------------------- ---------- 1.3/1.8 MB 5.2 MB/s eta 0:00:01\n",
      "   ---------------------------------- ----- 1.5/1.8 MB 4.8 MB/s eta 0:00:01\n",
      "   ------------------------------------- -- 1.7/1.8 MB 4.8 MB/s eta 0:00:01\n",
      "   ---------------------------------------  1.8/1.8 MB 4.7 MB/s eta 0:00:01\n",
      "   ---------------------------------------- 1.8/1.8 MB 4.3 MB/s eta 0:00:00\n",
      "Installing collected packages: websockets, pycryptodomex, mutagen, yt-dlp\n",
      "Successfully installed mutagen-1.47.0 pycryptodomex-3.20.0 websockets-13.0.1 yt-dlp-2024.8.6\n",
      "Note: you may need to restart the kernel to use updated packages.\n"
     ]
    }
   ],
   "source": [
    "pip install yt-dlp"
   ]
  },
  {
   "cell_type": "code",
   "execution_count": 6,
   "id": "2e64eace-f085-4b16-9a94-720486c2b390",
   "metadata": {},
   "outputs": [
    {
     "name": "stdin",
     "output_type": "stream",
     "text": [
      "Enter Youtube video https://www.youtube.com/watch?v=2Ny7KSyaero\n"
     ]
    }
   ],
   "source": [
    "link = input(\"Enter Youtube video\")\n",
    "yt = YouTube(link)"
   ]
  },
  {
   "cell_type": "code",
   "execution_count": 7,
   "id": "ae032530-f3b2-49a4-a528-cfa2d2c9718a",
   "metadata": {},
   "outputs": [
    {
     "name": "stdout",
     "output_type": "stream",
     "text": [
      "Title : Chudappa siddappa    Pawan Kalyan diloge WhatsApp Status\n",
      "Views : 28465\n",
      "Duration : 23\n",
      "Description : None\n",
      "Ratings : None\n"
     ]
    }
   ],
   "source": [
    "print(\"Title :\" , yt.title)\n",
    "print(\"Views :\" , yt.views)\n",
    "print(\"Duration :\" , yt.length)\n",
    "print(\"Description :\" , yt.description)\n",
    "print(\"Ratings :\" , yt.rating)"
   ]
  },
  {
   "cell_type": "code",
   "execution_count": 11,
   "id": "c74a1e0b-315a-4dd9-be92-a5e1e4345136",
   "metadata": {},
   "outputs": [
    {
     "name": "stdin",
     "output_type": "stream",
     "text": [
      "Do you want to download this video? (yes/no):  yes\n"
     ]
    },
    {
     "name": "stdout",
     "output_type": "stream",
     "text": [
      "Downloading...\n",
      "[youtube] Extracting URL: https://www.youtube.com/watch?v=2Ny7KSyaero\n",
      "[youtube] 2Ny7KSyaero: Downloading webpage\n",
      "[youtube] 2Ny7KSyaero: Downloading ios player API JSON\n",
      "[youtube] 2Ny7KSyaero: Downloading web creator player API JSON\n",
      "[youtube] 2Ny7KSyaero: Downloading player 3abab6ef\n",
      "[youtube] 2Ny7KSyaero: Downloading m3u8 information\n",
      "[info] 2Ny7KSyaero: Downloading 1 format(s): 18\n",
      "[download] Destination: Chudappa siddappa    Pawan Kalyan diloge WhatsApp Status [2Ny7KSyaero].mp4\n",
      "[download] 100% of    1.75MiB in 00:00:01 at 1.72MiB/s     \n",
      "Download completed.\n"
     ]
    }
   ],
   "source": [
    "from yt_dlp import YoutubeDL\n",
    "\n",
    "download_option = input(\"Do you want to download this video? (yes/no): \").lower()\n",
    "\n",
    "if download_option == \"yes\":\n",
    "    url = 'https://www.youtube.com/watch?v=2Ny7KSyaero'\n",
    "    ydl_opts = {'format': 'best'}\n",
    "    with YoutubeDL(ydl_opts) as ydl:\n",
    "        print(\"Downloading...\")\n",
    "        ydl.download([url])\n",
    "        print(\"Download completed.\")\n",
    "else:\n",
    "    print(\"Download aborted.\")"
   ]
  },
  {
   "cell_type": "code",
   "execution_count": 12,
   "id": "1f699bd1-2481-4c1a-acee-ffc81eacd30c",
   "metadata": {},
   "outputs": [
    {
     "data": {
      "text/plain": [
       "'C:\\\\Users\\\\admin'"
      ]
     },
     "execution_count": 12,
     "metadata": {},
     "output_type": "execute_result"
    }
   ],
   "source": [
    "import os\n",
    "os.getcwd()"
   ]
  },
  {
   "cell_type": "code",
   "execution_count": null,
   "id": "2d8f13ad-4213-4e5d-941d-91a124064518",
   "metadata": {},
   "outputs": [],
   "source": [
    "Done-Maruth reddy"
   ]
  },
  {
   "cell_type": "code",
   "execution_count": null,
   "id": "35d76523-24a6-46d3-b5c1-9e31c4b82a2d",
   "metadata": {},
   "outputs": [],
   "source": []
  }
 ],
 "metadata": {
  "kernelspec": {
   "display_name": "Python 3 (ipykernel)",
   "language": "python",
   "name": "python3"
  },
  "language_info": {
   "codemirror_mode": {
    "name": "ipython",
    "version": 3
   },
   "file_extension": ".py",
   "mimetype": "text/x-python",
   "name": "python",
   "nbconvert_exporter": "python",
   "pygments_lexer": "ipython3",
   "version": "3.12.4"
  }
 },
 "nbformat": 4,
 "nbformat_minor": 5
}
